{
 "cells": [
  {
   "cell_type": "code",
   "execution_count": 1,
   "id": "cc7dee3c-656a-41c1-9bb3-64644c2cda92",
   "metadata": {},
   "outputs": [
    {
     "name": "stdout",
     "output_type": "stream",
     "text": [
      "Hello world!\n"
     ]
    }
   ],
   "source": [
    "print(\"Hello world!\")"
   ]
  },
  {
   "cell_type": "code",
   "execution_count": null,
   "id": "8a16bd96-a1b1-4b20-8fe7-41c8e31606c4",
   "metadata": {},
   "outputs": [],
   "source": [
    "print('Hello world!')"
   ]
  },
  {
   "cell_type": "markdown",
   "id": "4417d3e9-b28e-415f-bac4-27cb5b8a96f8",
   "metadata": {},
   "source": [
    "# Hello world!"
   ]
  },
  {
   "cell_type": "code",
   "execution_count": 3,
   "id": "36c2f41d-87b1-4de7-a32a-32aefdb51eb1",
   "metadata": {},
   "outputs": [
    {
     "data": {
      "text/plain": [
       "2431"
      ]
     },
     "execution_count": 3,
     "metadata": {},
     "output_type": "execute_result"
    }
   ],
   "source": [
    "143*17"
   ]
  },
  {
   "cell_type": "code",
   "execution_count": 4,
   "id": "9002f145-5f0a-4ea8-abaa-105191ecda8b",
   "metadata": {},
   "outputs": [
    {
     "data": {
      "text/plain": [
       "1001.25"
      ]
     },
     "execution_count": 4,
     "metadata": {},
     "output_type": "execute_result"
    }
   ],
   "source": [
    "12015/12"
   ]
  },
  {
   "cell_type": "code",
   "execution_count": 5,
   "id": "99904f31-28d8-45bb-a638-a0b1e3cc2711",
   "metadata": {},
   "outputs": [
    {
     "name": "stdout",
     "output_type": "stream",
     "text": [
      "Hello world my name is ___\n"
     ]
    }
   ],
   "source": [
    "print(\"Hello world my name is ___\")"
   ]
  },
  {
   "cell_type": "code",
   "execution_count": 6,
   "id": "e3b80d7a-524c-4b43-95b4-435ff925f936",
   "metadata": {},
   "outputs": [
    {
     "name": "stdout",
     "output_type": "stream",
     "text": [
      "Leo\n"
     ]
    }
   ],
   "source": [
    "name = \"1734568\"\n",
    "print(name)"
   ]
  },
  {
   "cell_type": "code",
   "execution_count": 9,
   "id": "9acf56df-55f5-4d48-a3cb-b23c31fc8d32",
   "metadata": {},
   "outputs": [
    {
     "name": "stdout",
     "output_type": "stream",
     "text": [
      "my name is Leo\n"
     ]
    }
   ],
   "source": [
    "\n",
    "print(f\"my name is {name}\")"
   ]
  },
  {
   "cell_type": "code",
   "execution_count": 10,
   "id": "716ab980-06d7-4917-b215-3be63afd6ae5",
   "metadata": {},
   "outputs": [
    {
     "name": "stdout",
     "output_type": "stream",
     "text": [
      "my name is Leo\n"
     ]
    }
   ],
   "source": [
    "print(f\"my name is {name}\")"
   ]
  },
  {
   "cell_type": "code",
   "execution_count": 11,
   "id": "c08537e9-2215-4103-85e8-096ff77bc115",
   "metadata": {},
   "outputs": [],
   "source": [
    "name = \"1734568\""
   ]
  },
  {
   "cell_type": "code",
   "execution_count": 12,
   "id": "7dcc1e13-62c9-48f6-96b8-00194222ea69",
   "metadata": {},
   "outputs": [
    {
     "name": "stdout",
     "output_type": "stream",
     "text": [
      "my name is 1734568\n"
     ]
    }
   ],
   "source": [
    "print(f\"my name is {name}\")\n"
   ]
  },
  {
   "cell_type": "code",
   "execution_count": 13,
   "id": "38be3c76-a4b0-427c-9e5f-7ccef4a80ef6",
   "metadata": {},
   "outputs": [
    {
     "data": {
      "text/plain": [
       "3.142857142857143"
      ]
     },
     "execution_count": 13,
     "metadata": {},
     "output_type": "execute_result"
    }
   ],
   "source": [
    "22/7"
   ]
  },
  {
   "cell_type": "code",
   "execution_count": 14,
   "id": "347fe8ce-112a-44ad-b450-9af78f7095f5",
   "metadata": {},
   "outputs": [
    {
     "data": {
      "text/plain": [
       "3"
      ]
     },
     "execution_count": 14,
     "metadata": {},
     "output_type": "execute_result"
    }
   ],
   "source": [
    "22//7"
   ]
  },
  {
   "cell_type": "code",
   "execution_count": 15,
   "id": "73ade5c7-a4b2-4bd6-89c9-8c5d6bf9d0c6",
   "metadata": {},
   "outputs": [
    {
     "name": "stdout",
     "output_type": "stream",
     "text": [
      "number{i}\n",
      "number{i}\n",
      "number{i}\n",
      "number{i}\n",
      "number{i}\n",
      "number{i}\n",
      "number{i}\n",
      "number{i}\n",
      "number{i}\n",
      "number{i}\n"
     ]
    }
   ],
   "source": [
    "for i in range(10):\n",
    "    print(\"number{i}\")"
   ]
  },
  {
   "cell_type": "code",
   "execution_count": 16,
   "id": "65485101-e765-473b-8621-1721301f387f",
   "metadata": {},
   "outputs": [
    {
     "name": "stdout",
     "output_type": "stream",
     "text": [
      "number0\n",
      "number1\n",
      "number2\n",
      "number3\n",
      "number4\n",
      "number5\n",
      "number6\n",
      "number7\n",
      "number8\n",
      "number9\n"
     ]
    }
   ],
   "source": [
    "for i in range(10):\n",
    "    print(f\"number{i}\")"
   ]
  },
  {
   "cell_type": "code",
   "execution_count": 17,
   "id": "d09dbc9c-5b2a-4cdf-919c-6f6329dc6662",
   "metadata": {},
   "outputs": [],
   "source": [
    "list = [4,21,8,23,0,76]"
   ]
  },
  {
   "cell_type": "code",
   "execution_count": 18,
   "id": "aba331ab-b316-41a2-a36b-6a7b1ed562e9",
   "metadata": {},
   "outputs": [
    {
     "name": "stdout",
     "output_type": "stream",
     "text": [
      "number[4, 21, 8, 23, 0, 76]\n"
     ]
    }
   ],
   "source": [
    "print(f\"number{list}\")"
   ]
  },
  {
   "cell_type": "code",
   "execution_count": 19,
   "id": "31fae5e0-d4e2-45a6-ba02-ad9c9bfceebd",
   "metadata": {},
   "outputs": [
    {
     "name": "stdout",
     "output_type": "stream",
     "text": [
      "number[4, 21, 8, 23, 0, 76]\n",
      "number[4, 21, 8, 23, 0, 76]\n",
      "number[4, 21, 8, 23, 0, 76]\n",
      "number[4, 21, 8, 23, 0, 76]\n",
      "number[4, 21, 8, 23, 0, 76]\n",
      "number[4, 21, 8, 23, 0, 76]\n"
     ]
    }
   ],
   "source": [
    "for i in list:\n",
    "    print(f\"number{list}\")"
   ]
  },
  {
   "cell_type": "code",
   "execution_count": 20,
   "id": "9b00e569-7631-4506-92d7-5d4752ef9781",
   "metadata": {},
   "outputs": [
    {
     "name": "stdout",
     "output_type": "stream",
     "text": [
      "number is 4\n",
      "number is 21\n",
      "number is 8\n",
      "number is 23\n",
      "number is 0\n",
      "number is 76\n"
     ]
    }
   ],
   "source": [
    "for i in list:\n",
    "    print(f\"number is {i}\")"
   ]
  },
  {
   "cell_type": "code",
   "execution_count": 21,
   "id": "34de6de5-5fcb-498e-8d00-2c427cf51c6d",
   "metadata": {},
   "outputs": [
    {
     "ename": "_IncompleteInputError",
     "evalue": "incomplete input (1188546660.py, line 1)",
     "output_type": "error",
     "traceback": [
      "\u001b[0;36m  Cell \u001b[0;32mIn[21], line 1\u001b[0;36m\u001b[0m\n\u001b[0;31m    def printing_nums(nums):\u001b[0m\n\u001b[0m                            ^\u001b[0m\n\u001b[0;31m_IncompleteInputError\u001b[0m\u001b[0;31m:\u001b[0m incomplete input\n"
     ]
    }
   ],
   "source": [
    "def printing_nums(nums):"
   ]
  },
  {
   "cell_type": "code",
   "execution_count": 22,
   "id": "022b6f8b-44c0-4587-9c76-0d7f9fa654fd",
   "metadata": {},
   "outputs": [
    {
     "ename": "_IncompleteInputError",
     "evalue": "incomplete input (2998007653.py, line 1)",
     "output_type": "error",
     "traceback": [
      "\u001b[0;36m  Cell \u001b[0;32mIn[22], line 1\u001b[0;36m\u001b[0m\n\u001b[0;31m    def printing_nums(i):\u001b[0m\n\u001b[0m                         ^\u001b[0m\n\u001b[0;31m_IncompleteInputError\u001b[0m\u001b[0;31m:\u001b[0m incomplete input\n"
     ]
    }
   ],
   "source": [
    "def printing_nums(i):"
   ]
  },
  {
   "cell_type": "code",
   "execution_count": 23,
   "id": "1529986a-ccd5-4311-bfc7-bb67f51460ee",
   "metadata": {},
   "outputs": [
    {
     "ename": "_IncompleteInputError",
     "evalue": "incomplete input (1188546660.py, line 1)",
     "output_type": "error",
     "traceback": [
      "\u001b[0;36m  Cell \u001b[0;32mIn[23], line 1\u001b[0;36m\u001b[0m\n\u001b[0;31m    def printing_nums(nums):\u001b[0m\n\u001b[0m                            ^\u001b[0m\n\u001b[0;31m_IncompleteInputError\u001b[0m\u001b[0;31m:\u001b[0m incomplete input\n"
     ]
    }
   ],
   "source": [
    "def printing_nums(nums):"
   ]
  },
  {
   "cell_type": "code",
   "execution_count": 25,
   "id": "3100f9f3-3193-45ab-ab18-d3dc712ae63b",
   "metadata": {},
   "outputs": [],
   "source": [
    "def printing_nums(nums):\n",
    "    for num in nums:\n",
    "        print(f'number is {num}')"
   ]
  },
  {
   "cell_type": "code",
   "execution_count": 26,
   "id": "4f4f6caa-91db-4a6f-be20-e1ccc4a2e391",
   "metadata": {},
   "outputs": [
    {
     "ename": "TypeError",
     "evalue": "printing_nums() missing 1 required positional argument: 'nums'",
     "output_type": "error",
     "traceback": [
      "\u001b[0;31m---------------------------------------------------------------------------\u001b[0m",
      "\u001b[0;31mTypeError\u001b[0m                                 Traceback (most recent call last)",
      "Cell \u001b[0;32mIn[26], line 1\u001b[0m\n\u001b[0;32m----> 1\u001b[0m printing_nums()\n",
      "\u001b[0;31mTypeError\u001b[0m: printing_nums() missing 1 required positional argument: 'nums'"
     ]
    }
   ],
   "source": [
    "printing_nums()"
   ]
  },
  {
   "cell_type": "code",
   "execution_count": 28,
   "id": "171d67f9-ab94-4a10-805c-a971ad67f169",
   "metadata": {},
   "outputs": [],
   "source": [
    "def printing_nums(nums):\n",
    "    for num in nums:\n",
    "        print(f'number is {num}')"
   ]
  },
  {
   "cell_type": "code",
   "execution_count": 29,
   "id": "25ccda61-a827-4cde-bfb0-497ae4d8446d",
   "metadata": {},
   "outputs": [
    {
     "name": "stdout",
     "output_type": "stream",
     "text": [
      "number is 4\n",
      "number is 21\n",
      "number is 8\n",
      "number is 23\n",
      "number is 0\n",
      "number is 76\n"
     ]
    }
   ],
   "source": [
    "printing_nums(list)"
   ]
  },
  {
   "cell_type": "code",
   "execution_count": 32,
   "id": "48da486f-53b1-413f-bebf-95cf2d75bf3f",
   "metadata": {},
   "outputs": [],
   "source": [
    "c = [1453,623,123,4,243,5,21,43.6,1235,345.5354242859]"
   ]
  },
  {
   "cell_type": "code",
   "execution_count": 33,
   "id": "b8f2913c-8fa7-4d7d-8444-4525b112b347",
   "metadata": {},
   "outputs": [
    {
     "name": "stdout",
     "output_type": "stream",
     "text": [
      "number is 1453\n",
      "number is 623\n",
      "number is 123\n",
      "number is 4\n",
      "number is 243\n",
      "number is 5\n",
      "number is 21\n",
      "number is 43.6\n",
      "number is 1235\n",
      "number is 345.5354242859\n"
     ]
    }
   ],
   "source": [
    "printing_nums(c)"
   ]
  },
  {
   "cell_type": "code",
   "execution_count": null,
   "id": "0380d747-154e-449d-b080-4183186bf16b",
   "metadata": {},
   "outputs": [],
   "source": []
  }
 ],
 "metadata": {
  "kernelspec": {
   "display_name": "Python [conda env:base] *",
   "language": "python",
   "name": "conda-base-py"
  },
  "language_info": {
   "codemirror_mode": {
    "name": "ipython",
    "version": 3
   },
   "file_extension": ".py",
   "mimetype": "text/x-python",
   "name": "python",
   "nbconvert_exporter": "python",
   "pygments_lexer": "ipython3",
   "version": "3.13.5"
  }
 },
 "nbformat": 4,
 "nbformat_minor": 5
}
